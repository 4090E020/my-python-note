{
  "nbformat": 4,
  "nbformat_minor": 0,
  "metadata": {
    "colab": {
      "name": "mypythonnote(0_Python開發平台GoogleColab).ipynb",
      "provenance": [],
      "authorship_tag": "ABX9TyMIhcb+vwTjw9KIB+8eZupu",
      "include_colab_link": true
    },
    "kernelspec": {
      "name": "python3",
      "display_name": "Python 3"
    }
  },
  "cells": [
    {
      "cell_type": "markdown",
      "metadata": {
        "id": "view-in-github",
        "colab_type": "text"
      },
      "source": [
        "<a href=\"https://colab.research.google.com/github/4090E020/my-python-note/blob/123/mypythonnote(0_Python%E9%96%8B%E7%99%BC%E5%B9%B3%E5%8F%B0GoogleColab).ipynb\" target=\"_parent\"><img src=\"https://colab.research.google.com/assets/colab-badge.svg\" alt=\"Open In Colab\"/></a>"
      ]
    },
    {
      "cell_type": "code",
      "metadata": {
        "colab": {
          "base_uri": "https://localhost:8080/"
        },
        "id": "7wMpbmofd0z4",
        "outputId": "1c4aadd2-dba2-423d-ff77-9794321ad000"
      },
      "source": [
        "import pandas as pd\n",
        "print(\"pandas version: %s\" % pd.__version__)\n",
        "\n",
        "import matplotlib\n",
        "print(\"matplotlib version: %s\" % matplotlib.__version__)\n",
        "\n",
        "import numpy as np\n",
        "print(\"numpy version: %s\" % np.__version__)\n",
        "\n",
        "import sklearn\n",
        "print(\"scikit-learn version: %s\" % sklearn.__version__)\n",
        "\n",
        "import tensorflow as tf\n",
        "print(\"tensorflow version: %s\" % tf.__version__)\n",
        "\n",
        "import torch\n",
        "print(\"PyTorch version: %s\" %torch.__version__)\n",
        "print(\"2020年3月PyTorch version最新版本 是1.4 請參閱https://pytorch.org/\")"
      ],
      "execution_count": 1,
      "outputs": [
        {
          "output_type": "stream",
          "text": [
            "pandas version: 1.1.4\n",
            "matplotlib version: 3.2.2\n",
            "numpy version: 1.18.5\n",
            "scikit-learn version: 0.22.2.post1\n",
            "tensorflow version: 2.3.0\n",
            "PyTorch version: 1.7.0+cu101\n",
            "2020年3月PyTorch version最新版本 是1.4 請參閱https://pytorch.org/\n"
          ],
          "name": "stdout"
        }
      ]
    },
    {
      "cell_type": "markdown",
      "metadata": {
        "id": "IiV8vKTofylB"
      },
      "source": [
        "#軟體套件載入:\n",
        "#使用 import\n",
        "\n",
        "import pandas(軟體套件) as pd(小名)\n",
        "\n",
        "使用方式: pd.XXXX\n",
        "#認識軟體套件\n",
        "pandas\n",
        "\n",
        "tensorflow\n",
        "#python格式化輸出技術\n",
        " print(\"PyTorch version: %s\" %torch.__version__)\n",
        "\n",
        " 字串(位置%s) %  (要輸出的內容torch.__version__)"
      ]
    }
  ]
}